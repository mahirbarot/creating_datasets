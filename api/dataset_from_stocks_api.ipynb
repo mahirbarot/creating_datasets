{
  "nbformat": 4,
  "nbformat_minor": 0,
  "metadata": {
    "colab": {
      "provenance": []
    },
    "kernelspec": {
      "name": "python3",
      "display_name": "Python 3"
    },
    "language_info": {
      "name": "python"
    }
  },
  "cells": [
    {
      "cell_type": "code",
      "source": [
        "ticker_names = [\n",
        "    \"AAPL\",\n",
        "    \"MSFT\",\n",
        "    \"GOOGL\",\n",
        "    \"AMZN\",\n",
        "    \"NVDA\",\n",
        "    \"BRK.A\",\n",
        "    \"TSLA\",\n",
        "    \"FB\",\n",
        "    \"TSM\",\n",
        "    \"UNH\",\n",
        "    \"JPM\",\n",
        "    \"V\",\n",
        "    \"WMT\",\n",
        "    \"MA\",\n",
        "    \"AVGO\",\n",
        "    \"HD\",\n",
        "    \"MRK\",\n",
        "    \"PEP\",\n",
        "    \"ABBV\",\n",
        "    \"ADBE\",\n",
        "    \"CRM\",\n",
        "    \"TMO\",\n",
        "    \"CSCO\",\n",
        "    \"PFE\",\n",
        "    \"NFLX\",\n",
        "    \"AMD\",\n",
        "    \"NKE\",\n",
        "    \"UPS\",\n",
        "    \"NEE\",\n",
        "    \"PM\",\n",
        "    \"VZ\",\n",
        "    \"JNJ\",\n",
        "    \"GS\",\n",
        "    \"COST\",\n",
        "    \"BAC\",\n",
        "    \"CAT\",\n",
        "    \"LLY\",\n",
        "    \"WBA\",\n",
        "    \"JCI\",\n",
        "    \"HON\",\n",
        "    \"BMY\",\n",
        "    \"DHR\",\n",
        "    \"AXP\",\n",
        "    \"TRV\",\n",
        "    \"CVX\",\n",
        "    \"XOM\",\n",
        "    \"PG\",\n",
        "    \"UNH\",\n",
        "    \"IBM\",\n",
        "    \"COST\",\n",
        "]"
      ],
      "metadata": {
        "id": "Su14a3gw4ylB"
      },
      "execution_count": 7,
      "outputs": []
    },
    {
      "cell_type": "code",
      "source": [
        "import time\n",
        "import requests\n",
        "import pandas as pd\n",
        "\n",
        "st = time.time()\n",
        "\n",
        "\n",
        "ticker_df=[]\n",
        "\n",
        "\n",
        "for name in ticker_names[:4]:\n",
        "  time.sleep(5)\n",
        "  url = \"https://alpha-vantage.p.rapidapi.com/query\"\n",
        "\n",
        "  querystring = {f\"interval\":\"5min\",\"function\":\"TIME_SERIES_INTRADAY\",\"symbol\":{name},\"datatype\":\"json\",\"output_size\":\"compact\"}\n",
        "\n",
        "  headers = {\n",
        "    \"X-RapidAPI-Key\": \"70b10734ecmsh9ac4e74e563e401p1c65d3jsn66b3044e2e6a\",\n",
        "    \"X-RapidAPI-Host\": \"alpha-vantage.p.rapidapi.com\"\n",
        "  }\n",
        "\n",
        "  response = requests.get(url, headers=headers, params=querystring)\n",
        "  data=response.json()\n",
        "\n",
        "    #slicing the time away\n",
        "  tim=[]\n",
        "  data_frames = []\n",
        "  for _,v in data['Time Series (5min)'].items():\n",
        "    tim.append(_)\n",
        "\n",
        "  #slicing the data away\n",
        "  datan=[]\n",
        "  for _,v in data['Time Series (5min)'].items():\n",
        "    datan.append(v)\n",
        "\n",
        "\n",
        "  #merging everything inside a dataframe\n",
        "\n",
        "  data_frames = []\n",
        "  for data in datan:\n",
        "      df = pd.DataFrame([data]).rename(columns={\n",
        "          '1. open': 'open',\n",
        "          '2. high': 'high',\n",
        "          '3. low': 'low',\n",
        "          '4. close': 'close',\n",
        "          '5. volume': 'vol'\n",
        "      }).astype({'open': float, 'high': float, 'low': float, 'close': float, 'vol': int})\n",
        "      data_frames.append(df)\n",
        "\n",
        "  #merging all the dataframes\n",
        "\n",
        "  merged_df = pd.concat(data_frames)\n",
        "  merged_df = merged_df.reset_index(drop=True)\n",
        "\n",
        "  #adding the time variable value\n",
        "  merged_df['time']=tim\n",
        "\n",
        "  ticker_df.append(merged_df)\n",
        "\n",
        "  #df.iloc[0:0]\n",
        "  merged_df.iloc[0:0]\n",
        "\n",
        "\n",
        "et=time.time()\n",
        "\n",
        "tt=et-st\n",
        "print(f\"completion time is {tt}\")\n"
      ],
      "metadata": {
        "colab": {
          "base_uri": "https://localhost:8080/"
        },
        "id": "HqTfKzDDNirh",
        "outputId": "62994f92-00d0-4f48-d646-5bb01f1fd834"
      },
      "execution_count": 8,
      "outputs": [
        {
          "output_type": "stream",
          "name": "stdout",
          "text": [
            "completion time is 25.25424838066101\n"
          ]
        }
      ]
    },
    {
      "cell_type": "code",
      "source": [
        "for c,df in enumerate(ticker_df):\n",
        "  print(ticker_names[c])\n",
        "  f_name=ticker_names[c]+\".csv\"\n",
        "  print(df.head())\n",
        "  df.to_csv(f_name)"
      ],
      "metadata": {
        "colab": {
          "base_uri": "https://localhost:8080/"
        },
        "id": "LvsdO3khShwm",
        "outputId": "29f8e3e1-2830-4eb3-a029-e0d739b908f4"
      },
      "execution_count": 11,
      "outputs": [
        {
          "output_type": "stream",
          "name": "stdout",
          "text": [
            "AAPL\n",
            "     open    high     low    close   vol                 time\n",
            "0  192.06  192.10  192.00  192.050  2708  2023-07-21 19:55:00\n",
            "1  192.02  192.06  192.02  192.050   432  2023-07-21 19:50:00\n",
            "2  192.03  192.06  192.00  192.040  1572  2023-07-21 19:45:00\n",
            "3  191.98  192.08  191.98  192.060  1238  2023-07-21 19:40:00\n",
            "4  192.03  192.08  191.98  191.985   521  2023-07-21 19:35:00\n",
            "MSFT\n",
            "     open    high     low   close   vol                 time\n",
            "0  344.94  344.94  344.72  344.90  3763  2023-07-21 19:55:00\n",
            "1  344.87  344.92  344.63  344.92  3153  2023-07-21 19:50:00\n",
            "2  344.64  344.82  344.62  344.82  2472  2023-07-21 19:45:00\n",
            "3  344.64  344.70  344.62  344.66   627  2023-07-21 19:40:00\n",
            "4  344.70  344.74  344.63  344.70   250  2023-07-21 19:35:00\n",
            "GOOGL\n",
            "     open    high     low    close   vol                 time\n",
            "0  120.25  120.29  120.09  120.165  2974  2023-07-21 19:55:00\n",
            "1  120.24  120.29  120.21  120.240   802  2023-07-21 19:50:00\n",
            "2  120.22  120.25  120.20  120.250  1477  2023-07-21 19:45:00\n",
            "3  120.20  120.25  120.08  120.200  2503  2023-07-21 19:40:00\n",
            "4  120.13  120.20  120.04  120.200  1970  2023-07-21 19:35:00\n",
            "AMZN\n",
            "     open    high     low   close   vol                 time\n",
            "0  129.99  130.00  129.81  129.96  8662  2023-07-21 19:55:00\n",
            "1  129.97  130.05  129.97  129.98  5043  2023-07-21 19:50:00\n",
            "2  129.98  129.98  129.95  129.97  1373  2023-07-21 19:45:00\n",
            "3  129.95  129.98  129.90  129.98  1930  2023-07-21 19:40:00\n",
            "4  129.96  129.98  129.90  129.98   561  2023-07-21 19:35:00\n"
          ]
        }
      ]
    }
  ]
}