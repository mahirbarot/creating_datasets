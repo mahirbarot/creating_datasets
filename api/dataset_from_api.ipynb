{
  "nbformat": 4,
  "nbformat_minor": 0,
  "metadata": {
    "colab": {
      "provenance": []
    },
    "kernelspec": {
      "name": "python3",
      "display_name": "Python 3"
    },
    "language_info": {
      "name": "python"
    }
  },
  "cells": [
    {
      "cell_type": "code",
      "execution_count": 23,
      "metadata": {
        "colab": {
          "base_uri": "https://localhost:8080/"
        },
        "id": "gqxvGABcu_e8",
        "outputId": "15517ab2-f550-4f47-f8ed-d2edc01524d6"
      },
      "outputs": [
        {
          "output_type": "stream",
          "name": "stdout",
          "text": [
            "{'Meta Data': {'1. Information': 'Intraday (5min) open, high, low, close prices and volume', '2. Symbol': 'MSFT', '3. Last Refreshed': '2023-07-21 19:55:00', '4. Interval': '5min', '5. Output Size': 'Compact', '6. Time Zone': 'US/Eastern'}, 'Time Series (5min)': {'2023-07-21 19:55:00': {'1. open': '344.9400', '2. high': '344.9400', '3. low': '344.7200', '4. close': '344.9000', '5. volume': '3763'}, '2023-07-21 19:50:00': {'1. open': '344.8700', '2. high': '344.9200', '3. low': '344.6300', '4. close': '344.9200', '5. volume': '3153'}, '2023-07-21 19:45:00': {'1. open': '344.6400', '2. high': '344.8200', '3. low': '344.6200', '4. close': '344.8200', '5. volume': '2472'}, '2023-07-21 19:40:00': {'1. open': '344.6400', '2. high': '344.7000', '3. low': '344.6200', '4. close': '344.6600', '5. volume': '627'}, '2023-07-21 19:35:00': {'1. open': '344.7000', '2. high': '344.7400', '3. low': '344.6300', '4. close': '344.7000', '5. volume': '250'}, '2023-07-21 19:30:00': {'1. open': '344.6900', '2. high': '344.7500', '3. low': '344.6200', '4. close': '344.7300', '5. volume': '1032'}, '2023-07-21 19:25:00': {'1. open': '344.6600', '2. high': '344.7000', '3. low': '344.6300', '4. close': '344.6900', '5. volume': '727'}, '2023-07-21 19:20:00': {'1. open': '344.5800', '2. high': '344.6500', '3. low': '344.5800', '4. close': '344.6500', '5. volume': '1037'}, '2023-07-21 19:15:00': {'1. open': '344.6500', '2. high': '344.6500', '3. low': '344.5800', '4. close': '344.5900', '5. volume': '388'}, '2023-07-21 19:10:00': {'1. open': '344.5800', '2. high': '344.6500', '3. low': '344.5800', '4. close': '344.5800', '5. volume': '913'}, '2023-07-21 19:05:00': {'1. open': '344.7500', '2. high': '344.7500', '3. low': '344.5500', '4. close': '344.6000', '5. volume': '954'}, '2023-07-21 19:00:00': {'1. open': '344.6000', '2. high': '344.7900', '3. low': '344.5100', '4. close': '344.6000', '5. volume': '87'}, '2023-07-21 18:55:00': {'1. open': '344.7000', '2. high': '344.7900', '3. low': '344.5100', '4. close': '344.7000', '5. volume': '1122'}, '2023-07-21 18:50:00': {'1. open': '344.6200', '2. high': '344.8000', '3. low': '344.6200', '4. close': '344.8000', '5. volume': '711'}, '2023-07-21 18:45:00': {'1. open': '344.6900', '2. high': '344.7000', '3. low': '344.5100', '4. close': '344.6200', '5. volume': '206'}, '2023-07-21 18:40:00': {'1. open': '344.7800', '2. high': '344.7800', '3. low': '344.6200', '4. close': '344.7000', '5. volume': '828'}, '2023-07-21 18:35:00': {'1. open': '344.6000', '2. high': '344.8000', '3. low': '344.5100', '4. close': '344.7000', '5. volume': '408'}, '2023-07-21 18:30:00': {'1. open': '344.6200', '2. high': '344.8000', '3. low': '344.5100', '4. close': '344.5500', '5. volume': '1589'}, '2023-07-21 18:25:00': {'1. open': '344.6500', '2. high': '344.9000', '3. low': '344.5100', '4. close': '344.7000', '5. volume': '5755'}, '2023-07-21 18:20:00': {'1. open': '344.7100', '2. high': '344.9300', '3. low': '344.3500', '4. close': '344.8200', '5. volume': '2650'}, '2023-07-21 18:15:00': {'1. open': '344.9500', '2. high': '345.0000', '3. low': '344.6500', '4. close': '344.8900', '5. volume': '2899'}, '2023-07-21 18:10:00': {'1. open': '345.1800', '2. high': '345.2000', '3. low': '344.2700', '4. close': '344.9500', '5. volume': '6453'}, '2023-07-21 18:05:00': {'1. open': '344.7800', '2. high': '345.2000', '3. low': '344.7000', '4. close': '345.1800', '5. volume': '7505'}, '2023-07-21 18:00:00': {'1. open': '344.6200', '2. high': '344.8000', '3. low': '344.3500', '4. close': '344.7900', '5. volume': '6810'}, '2023-07-21 17:55:00': {'1. open': '344.6400', '2. high': '344.6500', '3. low': '334.4790', '4. close': '344.6500', '5. volume': '841'}, '2023-07-21 17:50:00': {'1. open': '344.6300', '2. high': '344.6500', '3. low': '344.2700', '4. close': '344.6400', '5. volume': '543'}, '2023-07-21 17:45:00': {'1. open': '344.6400', '2. high': '344.6700', '3. low': '344.2700', '4. close': '344.6300', '5. volume': '680'}, '2023-07-21 17:40:00': {'1. open': '344.2000', '2. high': '344.7500', '3. low': '344.2000', '4. close': '344.6700', '5. volume': '1090'}, '2023-07-21 17:35:00': {'1. open': '344.6800', '2. high': '344.7500', '3. low': '344.1600', '4. close': '344.6600', '5. volume': '5487'}, '2023-07-21 17:30:00': {'1. open': '344.4900', '2. high': '344.7500', '3. low': '343.7700', '4. close': '344.6600', '5. volume': '7343'}, '2023-07-21 17:25:00': {'1. open': '344.7000', '2. high': '344.7300', '3. low': '344.1620', '4. close': '344.4900', '5. volume': '1513'}, '2023-07-21 17:20:00': {'1. open': '344.3800', '2. high': '344.8500', '3. low': '343.7700', '4. close': '344.1500', '5. volume': '18190'}, '2023-07-21 17:15:00': {'1. open': '344.3000', '2. high': '366.9460', '3. low': '344.1500', '4. close': '344.1500', '5. volume': '1689'}, '2023-07-21 17:10:00': {'1. open': '344.3000', '2. high': '344.3300', '3. low': '344.2100', '4. close': '344.3000', '5. volume': '1833'}, '2023-07-21 17:05:00': {'1. open': '344.0900', '2. high': '344.3500', '3. low': '344.0900', '4. close': '344.3000', '5. volume': '723'}, '2023-07-21 17:00:00': {'1. open': '344.1100', '2. high': '344.1400', '3. low': '343.7700', '4. close': '344.1400', '5. volume': '15319'}, '2023-07-21 16:55:00': {'1. open': '344.1000', '2. high': '344.3300', '3. low': '344.1000', '4. close': '344.1400', '5. volume': '2734'}, '2023-07-21 16:50:00': {'1. open': '344.6400', '2. high': '344.7300', '3. low': '344.1000', '4. close': '344.1500', '5. volume': '10413'}, '2023-07-21 16:45:00': {'1. open': '344.7400', '2. high': '344.8000', '3. low': '344.6000', '4. close': '344.6400', '5. volume': '7009'}, '2023-07-21 16:40:00': {'1. open': '344.5400', '2. high': '344.8400', '3. low': '343.7700', '4. close': '344.7100', '5. volume': '1622037'}, '2023-07-21 16:35:00': {'1. open': '344.4800', '2. high': '344.5500', '3. low': '344.2600', '4. close': '344.4000', '5. volume': '8994'}, '2023-07-21 16:30:00': {'1. open': '344.2400', '2. high': '344.5400', '3. low': '344.2300', '4. close': '344.5400', '5. volume': '14644'}, '2023-07-21 16:25:00': {'1. open': '344.1300', '2. high': '344.4400', '3. low': '344.1300', '4. close': '344.1300', '5. volume': '9750'}, '2023-07-21 16:20:00': {'1. open': '344.3100', '2. high': '344.3900', '3. low': '344.0000', '4. close': '344.1000', '5. volume': '7677'}, '2023-07-21 16:15:00': {'1. open': '343.7700', '2. high': '344.3300', '3. low': '343.7700', '4. close': '344.1900', '5. volume': '23544'}, '2023-07-21 16:10:00': {'1. open': '344.3000', '2. high': '344.3300', '3. low': '341.1700', '4. close': '344.2900', '5. volume': '46328'}, '2023-07-21 16:05:00': {'1. open': '344.1100', '2. high': '344.3400', '3. low': '343.7700', '4. close': '344.2510', '5. volume': '1014302'}, '2023-07-21 16:00:00': {'1. open': '343.7800', '2. high': '344.5400', '3. low': '343.5100', '4. close': '344.2000', '5. volume': '58046027'}, '2023-07-21 15:55:00': {'1. open': '342.3700', '2. high': '344.0500', '3. low': '342.3300', '4. close': '343.7700', '5. volume': '2122359'}, '2023-07-21 15:50:00': {'1. open': '341.7350', '2. high': '346.0100', '3. low': '339.8300', '4. close': '342.3300', '5. volume': '5216641'}, '2023-07-21 15:45:00': {'1. open': '341.9550', '2. high': '342.7250', '3. low': '341.2200', '4. close': '341.8000', '5. volume': '1009070'}, '2023-07-21 15:40:00': {'1. open': '341.4900', '2. high': '342.1550', '3. low': '341.2000', '4. close': '341.9750', '5. volume': '749196'}, '2023-07-21 15:35:00': {'1. open': '341.6000', '2. high': '342.1800', '3. low': '341.2460', '4. close': '341.5100', '5. volume': '735298'}, '2023-07-21 15:30:00': {'1. open': '342.6500', '2. high': '342.7500', '3. low': '341.5000', '4. close': '341.5800', '5. volume': '758060'}, '2023-07-21 15:25:00': {'1. open': '342.8200', '2. high': '342.9900', '3. low': '342.4700', '4. close': '342.6400', '5. volume': '420645'}, '2023-07-21 15:20:00': {'1. open': '342.9000', '2. high': '343.2700', '3. low': '342.5000', '4. close': '342.8300', '5. volume': '489642'}, '2023-07-21 15:15:00': {'1. open': '342.6500', '2. high': '343.0290', '3. low': '342.5800', '4. close': '342.9000', '5. volume': '401701'}, '2023-07-21 15:10:00': {'1. open': '343.2000', '2. high': '343.5500', '3. low': '342.5500', '4. close': '342.6500', '5. volume': '519015'}, '2023-07-21 15:05:00': {'1. open': '343.6000', '2. high': '343.7300', '3. low': '343.1300', '4. close': '343.2400', '5. volume': '543935'}, '2023-07-21 15:00:00': {'1. open': '344.1600', '2. high': '344.3300', '3. low': '343.4900', '4. close': '343.6150', '5. volume': '435851'}, '2023-07-21 14:55:00': {'1. open': '344.4100', '2. high': '344.4100', '3. low': '343.9900', '4. close': '344.1600', '5. volume': '316143'}, '2023-07-21 14:50:00': {'1. open': '344.9700', '2. high': '344.9700', '3. low': '344.2400', '4. close': '344.4500', '5. volume': '359567'}, '2023-07-21 14:45:00': {'1. open': '344.7050', '2. high': '345.4100', '3. low': '344.6900', '4. close': '344.9900', '5. volume': '272144'}, '2023-07-21 14:40:00': {'1. open': '344.6810', '2. high': '344.8700', '3. low': '344.6000', '4. close': '344.7100', '5. volume': '242045'}, '2023-07-21 14:35:00': {'1. open': '344.6650', '2. high': '344.9650', '3. low': '344.6100', '4. close': '344.6600', '5. volume': '295675'}, '2023-07-21 14:30:00': {'1. open': '345.0520', '2. high': '345.0700', '3. low': '344.4900', '4. close': '344.6650', '5. volume': '890726'}, '2023-07-21 14:25:00': {'1. open': '345.0900', '2. high': '345.3100', '3. low': '344.9500', '4. close': '345.0550', '5. volume': '262600'}, '2023-07-21 14:20:00': {'1. open': '345.3600', '2. high': '345.4200', '3. low': '344.9790', '4. close': '345.1000', '5. volume': '279039'}, '2023-07-21 14:15:00': {'1. open': '344.9300', '2. high': '345.4500', '3. low': '344.7500', '4. close': '345.3150', '5. volume': '206732'}, '2023-07-21 14:10:00': {'1. open': '345.7400', '2. high': '345.8000', '3. low': '344.8500', '4. close': '344.9400', '5. volume': '226483'}, '2023-07-21 14:05:00': {'1. open': '345.5600', '2. high': '345.8800', '3. low': '345.3800', '4. close': '345.7300', '5. volume': '199309'}, '2023-07-21 14:00:00': {'1. open': '346.1850', '2. high': '346.2450', '3. low': '345.5300', '4. close': '345.5300', '5. volume': '221740'}, '2023-07-21 13:55:00': {'1. open': '346.2950', '2. high': '346.3800', '3. low': '345.8300', '4. close': '346.1900', '5. volume': '278858'}, '2023-07-21 13:50:00': {'1. open': '346.2800', '2. high': '346.4200', '3. low': '346.0100', '4. close': '346.2940', '5. volume': '187150'}, '2023-07-21 13:45:00': {'1. open': '346.3300', '2. high': '346.4500', '3. low': '346.0760', '4. close': '346.2350', '5. volume': '149576'}, '2023-07-21 13:40:00': {'1. open': '346.9000', '2. high': '347.0800', '3. low': '346.1700', '4. close': '346.3600', '5. volume': '191948'}, '2023-07-21 13:35:00': {'1. open': '347.0900', '2. high': '347.0900', '3. low': '346.6400', '4. close': '346.9180', '5. volume': '163674'}, '2023-07-21 13:30:00': {'1. open': '346.2600', '2. high': '347.2500', '3. low': '346.1900', '4. close': '347.0800', '5. volume': '466649'}, '2023-07-21 13:25:00': {'1. open': '346.0800', '2. high': '346.3200', '3. low': '345.8300', '4. close': '346.2900', '5. volume': '224071'}, '2023-07-21 13:20:00': {'1. open': '346.1800', '2. high': '346.3000', '3. low': '346.0000', '4. close': '346.0600', '5. volume': '183513'}, '2023-07-21 13:15:00': {'1. open': '346.3700', '2. high': '346.6800', '3. low': '346.2100', '4. close': '346.2100', '5. volume': '237543'}, '2023-07-21 13:10:00': {'1. open': '346.3000', '2. high': '346.9700', '3. low': '346.2700', '4. close': '346.3600', '5. volume': '290854'}, '2023-07-21 13:05:00': {'1. open': '346.0500', '2. high': '346.4900', '3. low': '345.9900', '4. close': '346.3100', '5. volume': '171705'}, '2023-07-21 13:00:00': {'1. open': '345.7300', '2. high': '346.3900', '3. low': '345.6100', '4. close': '346.0500', '5. volume': '178849'}, '2023-07-21 12:55:00': {'1. open': '345.9250', '2. high': '345.9900', '3. low': '345.5250', '4. close': '345.7700', '5. volume': '157973'}, '2023-07-21 12:50:00': {'1. open': '345.5900', '2. high': '346.0900', '3. low': '345.5200', '4. close': '345.9250', '5. volume': '259404'}, '2023-07-21 12:45:00': {'1. open': '345.4850', '2. high': '345.7250', '3. low': '345.1800', '4. close': '345.6100', '5. volume': '410895'}, '2023-07-21 12:40:00': {'1. open': '345.7050', '2. high': '345.7300', '3. low': '345.0700', '4. close': '345.5000', '5. volume': '237574'}, '2023-07-21 12:35:00': {'1. open': '345.2400', '2. high': '345.8400', '3. low': '345.0400', '4. close': '345.7050', '5. volume': '211724'}, '2023-07-21 12:30:00': {'1. open': '345.0400', '2. high': '345.4000', '3. low': '344.9800', '4. close': '345.2300', '5. volume': '650513'}, '2023-07-21 12:25:00': {'1. open': '345.5450', '2. high': '345.6300', '3. low': '344.9600', '4. close': '345.0150', '5. volume': '310569'}, '2023-07-21 12:20:00': {'1. open': '345.6900', '2. high': '345.9300', '3. low': '345.5000', '4. close': '345.5200', '5. volume': '182406'}, '2023-07-21 12:15:00': {'1. open': '345.6200', '2. high': '345.9900', '3. low': '345.5100', '4. close': '345.6900', '5. volume': '178472'}, '2023-07-21 12:10:00': {'1. open': '346.1500', '2. high': '346.2000', '3. low': '345.5600', '4. close': '345.6400', '5. volume': '201774'}, '2023-07-21 12:05:00': {'1. open': '346.2000', '2. high': '346.5300', '3. low': '346.0000', '4. close': '346.1400', '5. volume': '177032'}, '2023-07-21 12:00:00': {'1. open': '346.3700', '2. high': '346.6100', '3. low': '346.1300', '4. close': '346.2100', '5. volume': '191403'}, '2023-07-21 11:55:00': {'1. open': '346.0700', '2. high': '346.4150', '3. low': '345.9600', '4. close': '346.3800', '5. volume': '152662'}, '2023-07-21 11:50:00': {'1. open': '346.6650', '2. high': '347.1400', '3. low': '346.0400', '4. close': '346.0800', '5. volume': '290306'}, '2023-07-21 11:45:00': {'1. open': '346.0250', '2. high': '346.7300', '3. low': '345.7350', '4. close': '346.6400', '5. volume': '198041'}, '2023-07-21 11:40:00': {'1. open': '347.0800', '2. high': '347.1100', '3. low': '345.9900', '4. close': '346.0300', '5. volume': '250806'}}}\n"
          ]
        }
      ],
      "source": [
        "import requests\n",
        "import pandas as pd\n",
        "\n",
        "url = \"https://alpha-vantage.p.rapidapi.com/query\"\n",
        "\n",
        "querystring = {\"interval\":\"5min\",\"function\":\"TIME_SERIES_INTRADAY\",\"symbol\":\"MSFT\",\"datatype\":\"json\",\"output_size\":\"compact\"}\n",
        "\n",
        "headers = {\n",
        "\t\"X-RapidAPI-Key\": \"70b10734ecmsh9ac4e74e563e401p1c65d3jsn66b3044e2e6a\",\n",
        "\t\"X-RapidAPI-Host\": \"alpha-vantage.p.rapidapi.com\"\n",
        "}\n",
        "\n",
        "response = requests.get(url, headers=headers, params=querystring)\n",
        "\n",
        "print(response.json())"
      ]
    },
    {
      "cell_type": "code",
      "source": [
        "data=response.json()\n"
      ],
      "metadata": {
        "id": "ryJa7Q1tx-rB"
      },
      "execution_count": 24,
      "outputs": []
    },
    {
      "cell_type": "code",
      "source": [
        "tim=[]\n",
        "data_frames = []\n",
        "for _,v in data['Time Series (5min)'].items():\n",
        "  tim.append(_)\n",
        ""
      ],
      "metadata": {
        "id": "BHzScJnAzRg9"
      },
      "execution_count": 25,
      "outputs": []
    },
    {
      "cell_type": "code",
      "source": [
        "datan=[]\n",
        "for _,v in data['Time Series (5min)'].items():\n",
        "  datan.append(v)\n",
        "\n"
      ],
      "metadata": {
        "colab": {
          "base_uri": "https://localhost:8080/"
        },
        "id": "D_v13UIfzUHL",
        "outputId": "ca6c65d1-5a8d-43de-b8de-4992f22ef418"
      },
      "execution_count": 29,
      "outputs": [
        {
          "output_type": "stream",
          "name": "stdout",
          "text": [
            "[{'1. open': '344.9400', '2. high': '344.9400', '3. low': '344.7200', '4. close': '344.9000', '5. volume': '3763'}, {'1. open': '344.8700', '2. high': '344.9200', '3. low': '344.6300', '4. close': '344.9200', '5. volume': '3153'}, {'1. open': '344.6400', '2. high': '344.8200', '3. low': '344.6200', '4. close': '344.8200', '5. volume': '2472'}, {'1. open': '344.6400', '2. high': '344.7000', '3. low': '344.6200', '4. close': '344.6600', '5. volume': '627'}, {'1. open': '344.7000', '2. high': '344.7400', '3. low': '344.6300', '4. close': '344.7000', '5. volume': '250'}]\n"
          ]
        }
      ]
    },
    {
      "cell_type": "code",
      "source": [
        "data_frames = []\n",
        "for data in datan:\n",
        "    df = pd.DataFrame([data]).rename(columns={\n",
        "        '1. open': 'open',\n",
        "        '2. high': 'high',\n",
        "        '3. low': 'low',\n",
        "        '4. close': 'close',\n",
        "        '5. volume': 'vol'\n",
        "    }).astype({'open': float, 'high': float, 'low': float, 'close': float, 'vol': int})\n",
        "    data_frames.append(df)"
      ],
      "metadata": {
        "id": "Fj1aHZ7I24Hi"
      },
      "execution_count": 34,
      "outputs": []
    },
    {
      "cell_type": "code",
      "source": [
        "data_frames[:5]\n",
        "merged_df = pd.concat(data_frames)\n",
        "merged_df = merged_df.reset_index(drop=True)\n",
        "\n",
        "print(merged_df)\n",
        "\n",
        "df=merged_df.copy()"
      ],
      "metadata": {
        "colab": {
          "base_uri": "https://localhost:8080/"
        },
        "id": "Fkd2AviX3gIY",
        "outputId": "1ea78e5a-3e6f-47e3-aee9-30fbcad8908b"
      },
      "execution_count": 43,
      "outputs": [
        {
          "output_type": "stream",
          "name": "stdout",
          "text": [
            "       open     high      low   close     vol\n",
            "0   344.940  344.940  344.720  344.90    3763\n",
            "1   344.870  344.920  344.630  344.92    3153\n",
            "2   344.640  344.820  344.620  344.82    2472\n",
            "3   344.640  344.700  344.620  344.66     627\n",
            "4   344.700  344.740  344.630  344.70     250\n",
            "..      ...      ...      ...     ...     ...\n",
            "95  346.370  346.610  346.130  346.21  191403\n",
            "96  346.070  346.415  345.960  346.38  152662\n",
            "97  346.665  347.140  346.040  346.08  290306\n",
            "98  346.025  346.730  345.735  346.64  198041\n",
            "99  347.080  347.110  345.990  346.03  250806\n",
            "\n",
            "[100 rows x 5 columns]\n"
          ]
        }
      ]
    },
    {
      "cell_type": "code",
      "source": [
        "df['time']=tim"
      ],
      "metadata": {
        "id": "7dU8Es7z5u-N"
      },
      "execution_count": 44,
      "outputs": []
    },
    {
      "cell_type": "code",
      "source": [
        "df.head()"
      ],
      "metadata": {
        "colab": {
          "base_uri": "https://localhost:8080/",
          "height": 206
        },
        "id": "Su14a3gw4ylB",
        "outputId": "b0ed885e-aa52-4c68-cea4-b840296cf903"
      },
      "execution_count": 45,
      "outputs": [
        {
          "output_type": "execute_result",
          "data": {
            "text/plain": [
              "     open    high     low   close   vol                 time\n",
              "0  344.94  344.94  344.72  344.90  3763  2023-07-21 19:55:00\n",
              "1  344.87  344.92  344.63  344.92  3153  2023-07-21 19:50:00\n",
              "2  344.64  344.82  344.62  344.82  2472  2023-07-21 19:45:00\n",
              "3  344.64  344.70  344.62  344.66   627  2023-07-21 19:40:00\n",
              "4  344.70  344.74  344.63  344.70   250  2023-07-21 19:35:00"
            ],
            "text/html": [
              "\n",
              "\n",
              "  <div id=\"df-70b55b33-607f-4a56-9d5b-411240d19e1c\">\n",
              "    <div class=\"colab-df-container\">\n",
              "      <div>\n",
              "<style scoped>\n",
              "    .dataframe tbody tr th:only-of-type {\n",
              "        vertical-align: middle;\n",
              "    }\n",
              "\n",
              "    .dataframe tbody tr th {\n",
              "        vertical-align: top;\n",
              "    }\n",
              "\n",
              "    .dataframe thead th {\n",
              "        text-align: right;\n",
              "    }\n",
              "</style>\n",
              "<table border=\"1\" class=\"dataframe\">\n",
              "  <thead>\n",
              "    <tr style=\"text-align: right;\">\n",
              "      <th></th>\n",
              "      <th>open</th>\n",
              "      <th>high</th>\n",
              "      <th>low</th>\n",
              "      <th>close</th>\n",
              "      <th>vol</th>\n",
              "      <th>time</th>\n",
              "    </tr>\n",
              "  </thead>\n",
              "  <tbody>\n",
              "    <tr>\n",
              "      <th>0</th>\n",
              "      <td>344.94</td>\n",
              "      <td>344.94</td>\n",
              "      <td>344.72</td>\n",
              "      <td>344.90</td>\n",
              "      <td>3763</td>\n",
              "      <td>2023-07-21 19:55:00</td>\n",
              "    </tr>\n",
              "    <tr>\n",
              "      <th>1</th>\n",
              "      <td>344.87</td>\n",
              "      <td>344.92</td>\n",
              "      <td>344.63</td>\n",
              "      <td>344.92</td>\n",
              "      <td>3153</td>\n",
              "      <td>2023-07-21 19:50:00</td>\n",
              "    </tr>\n",
              "    <tr>\n",
              "      <th>2</th>\n",
              "      <td>344.64</td>\n",
              "      <td>344.82</td>\n",
              "      <td>344.62</td>\n",
              "      <td>344.82</td>\n",
              "      <td>2472</td>\n",
              "      <td>2023-07-21 19:45:00</td>\n",
              "    </tr>\n",
              "    <tr>\n",
              "      <th>3</th>\n",
              "      <td>344.64</td>\n",
              "      <td>344.70</td>\n",
              "      <td>344.62</td>\n",
              "      <td>344.66</td>\n",
              "      <td>627</td>\n",
              "      <td>2023-07-21 19:40:00</td>\n",
              "    </tr>\n",
              "    <tr>\n",
              "      <th>4</th>\n",
              "      <td>344.70</td>\n",
              "      <td>344.74</td>\n",
              "      <td>344.63</td>\n",
              "      <td>344.70</td>\n",
              "      <td>250</td>\n",
              "      <td>2023-07-21 19:35:00</td>\n",
              "    </tr>\n",
              "  </tbody>\n",
              "</table>\n",
              "</div>\n",
              "      <button class=\"colab-df-convert\" onclick=\"convertToInteractive('df-70b55b33-607f-4a56-9d5b-411240d19e1c')\"\n",
              "              title=\"Convert this dataframe to an interactive table.\"\n",
              "              style=\"display:none;\">\n",
              "\n",
              "  <svg xmlns=\"http://www.w3.org/2000/svg\" height=\"24px\"viewBox=\"0 0 24 24\"\n",
              "       width=\"24px\">\n",
              "    <path d=\"M0 0h24v24H0V0z\" fill=\"none\"/>\n",
              "    <path d=\"M18.56 5.44l.94 2.06.94-2.06 2.06-.94-2.06-.94-.94-2.06-.94 2.06-2.06.94zm-11 1L8.5 8.5l.94-2.06 2.06-.94-2.06-.94L8.5 2.5l-.94 2.06-2.06.94zm10 10l.94 2.06.94-2.06 2.06-.94-2.06-.94-.94-2.06-.94 2.06-2.06.94z\"/><path d=\"M17.41 7.96l-1.37-1.37c-.4-.4-.92-.59-1.43-.59-.52 0-1.04.2-1.43.59L10.3 9.45l-7.72 7.72c-.78.78-.78 2.05 0 2.83L4 21.41c.39.39.9.59 1.41.59.51 0 1.02-.2 1.41-.59l7.78-7.78 2.81-2.81c.8-.78.8-2.07 0-2.86zM5.41 20L4 18.59l7.72-7.72 1.47 1.35L5.41 20z\"/>\n",
              "  </svg>\n",
              "      </button>\n",
              "\n",
              "\n",
              "\n",
              "    <div id=\"df-f7914d5b-fd0f-4689-9c4a-e5e6de6856df\">\n",
              "      <button class=\"colab-df-quickchart\" onclick=\"quickchart('df-f7914d5b-fd0f-4689-9c4a-e5e6de6856df')\"\n",
              "              title=\"Suggest charts.\"\n",
              "              style=\"display:none;\">\n",
              "\n",
              "<svg xmlns=\"http://www.w3.org/2000/svg\" height=\"24px\"viewBox=\"0 0 24 24\"\n",
              "     width=\"24px\">\n",
              "    <g>\n",
              "        <path d=\"M19 3H5c-1.1 0-2 .9-2 2v14c0 1.1.9 2 2 2h14c1.1 0 2-.9 2-2V5c0-1.1-.9-2-2-2zM9 17H7v-7h2v7zm4 0h-2V7h2v10zm4 0h-2v-4h2v4z\"/>\n",
              "    </g>\n",
              "</svg>\n",
              "      </button>\n",
              "    </div>\n",
              "\n",
              "<style>\n",
              "  .colab-df-quickchart {\n",
              "    background-color: #E8F0FE;\n",
              "    border: none;\n",
              "    border-radius: 50%;\n",
              "    cursor: pointer;\n",
              "    display: none;\n",
              "    fill: #1967D2;\n",
              "    height: 32px;\n",
              "    padding: 0 0 0 0;\n",
              "    width: 32px;\n",
              "  }\n",
              "\n",
              "  .colab-df-quickchart:hover {\n",
              "    background-color: #E2EBFA;\n",
              "    box-shadow: 0px 1px 2px rgba(60, 64, 67, 0.3), 0px 1px 3px 1px rgba(60, 64, 67, 0.15);\n",
              "    fill: #174EA6;\n",
              "  }\n",
              "\n",
              "  [theme=dark] .colab-df-quickchart {\n",
              "    background-color: #3B4455;\n",
              "    fill: #D2E3FC;\n",
              "  }\n",
              "\n",
              "  [theme=dark] .colab-df-quickchart:hover {\n",
              "    background-color: #434B5C;\n",
              "    box-shadow: 0px 1px 3px 1px rgba(0, 0, 0, 0.15);\n",
              "    filter: drop-shadow(0px 1px 2px rgba(0, 0, 0, 0.3));\n",
              "    fill: #FFFFFF;\n",
              "  }\n",
              "</style>\n",
              "\n",
              "    <script>\n",
              "      async function quickchart(key) {\n",
              "        const containerElement = document.querySelector('#' + key);\n",
              "        const charts = await google.colab.kernel.invokeFunction(\n",
              "            'suggestCharts', [key], {});\n",
              "      }\n",
              "    </script>\n",
              "\n",
              "      <script>\n",
              "\n",
              "function displayQuickchartButton(domScope) {\n",
              "  let quickchartButtonEl =\n",
              "    domScope.querySelector('#df-f7914d5b-fd0f-4689-9c4a-e5e6de6856df button.colab-df-quickchart');\n",
              "  quickchartButtonEl.style.display =\n",
              "    google.colab.kernel.accessAllowed ? 'block' : 'none';\n",
              "}\n",
              "\n",
              "        displayQuickchartButton(document);\n",
              "      </script>\n",
              "      <style>\n",
              "    .colab-df-container {\n",
              "      display:flex;\n",
              "      flex-wrap:wrap;\n",
              "      gap: 12px;\n",
              "    }\n",
              "\n",
              "    .colab-df-convert {\n",
              "      background-color: #E8F0FE;\n",
              "      border: none;\n",
              "      border-radius: 50%;\n",
              "      cursor: pointer;\n",
              "      display: none;\n",
              "      fill: #1967D2;\n",
              "      height: 32px;\n",
              "      padding: 0 0 0 0;\n",
              "      width: 32px;\n",
              "    }\n",
              "\n",
              "    .colab-df-convert:hover {\n",
              "      background-color: #E2EBFA;\n",
              "      box-shadow: 0px 1px 2px rgba(60, 64, 67, 0.3), 0px 1px 3px 1px rgba(60, 64, 67, 0.15);\n",
              "      fill: #174EA6;\n",
              "    }\n",
              "\n",
              "    [theme=dark] .colab-df-convert {\n",
              "      background-color: #3B4455;\n",
              "      fill: #D2E3FC;\n",
              "    }\n",
              "\n",
              "    [theme=dark] .colab-df-convert:hover {\n",
              "      background-color: #434B5C;\n",
              "      box-shadow: 0px 1px 3px 1px rgba(0, 0, 0, 0.15);\n",
              "      filter: drop-shadow(0px 1px 2px rgba(0, 0, 0, 0.3));\n",
              "      fill: #FFFFFF;\n",
              "    }\n",
              "  </style>\n",
              "\n",
              "      <script>\n",
              "        const buttonEl =\n",
              "          document.querySelector('#df-70b55b33-607f-4a56-9d5b-411240d19e1c button.colab-df-convert');\n",
              "        buttonEl.style.display =\n",
              "          google.colab.kernel.accessAllowed ? 'block' : 'none';\n",
              "\n",
              "        async function convertToInteractive(key) {\n",
              "          const element = document.querySelector('#df-70b55b33-607f-4a56-9d5b-411240d19e1c');\n",
              "          const dataTable =\n",
              "            await google.colab.kernel.invokeFunction('convertToInteractive',\n",
              "                                                     [key], {});\n",
              "          if (!dataTable) return;\n",
              "\n",
              "          const docLinkHtml = 'Like what you see? Visit the ' +\n",
              "            '<a target=\"_blank\" href=https://colab.research.google.com/notebooks/data_table.ipynb>data table notebook</a>'\n",
              "            + ' to learn more about interactive tables.';\n",
              "          element.innerHTML = '';\n",
              "          dataTable['output_type'] = 'display_data';\n",
              "          await google.colab.output.renderOutput(dataTable, element);\n",
              "          const docLink = document.createElement('div');\n",
              "          docLink.innerHTML = docLinkHtml;\n",
              "          element.appendChild(docLink);\n",
              "        }\n",
              "      </script>\n",
              "    </div>\n",
              "  </div>\n"
            ]
          },
          "metadata": {},
          "execution_count": 45
        }
      ]
    }
  ]
}